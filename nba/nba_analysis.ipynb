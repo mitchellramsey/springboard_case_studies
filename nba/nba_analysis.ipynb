{
 "cells": [
  {
   "cell_type": "code",
   "execution_count": 1,
   "id": "b6d76ce8",
   "metadata": {},
   "outputs": [],
   "source": [
    "import pandas as pd\n",
    "import numpy as np\n",
    "import matplotlib.pyplot as plt\n",
    "import seaborn as sns\n",
    "import warnings\n",
    "warnings.filterwarnings('ignore')\n",
    "pd.set_option('display.max_columns', None)\n",
    "pd.set_option('display.max_rows', None)"
   ]
  },
  {
   "cell_type": "code",
   "execution_count": 2,
   "id": "e0105005",
   "metadata": {},
   "outputs": [],
   "source": [
    "season_list = []"
   ]
  },
  {
   "cell_type": "code",
   "execution_count": 3,
   "id": "89231cfc",
   "metadata": {},
   "outputs": [],
   "source": [
    "seasons = [str(x) for x in list(range(1990, 2022)) ]"
   ]
  },
  {
   "cell_type": "code",
   "execution_count": 6,
   "id": "632e5d72",
   "metadata": {},
   "outputs": [],
   "source": [
    "for season in seasons:\n",
    "    data = pd.read_csv('./data/seasons/{}.csv'.format(season))\n",
    "    data['Team'] = data['Team'].str.replace('*', '')\n",
    "    data.drop(columns='Rk', axis=1, inplace=True)\n",
    "    data['Year'] = int(season)\n",
    "    data.set_index(['Year', 'Team'], inplace=True)\n",
    "    season_list.append(data)"
   ]
  },
  {
   "cell_type": "code",
   "execution_count": 7,
   "id": "1e637619",
   "metadata": {},
   "outputs": [],
   "source": [
    "for index, season in enumerate(season_list):\n",
    "    if index == 0:\n",
    "        all_seasons = pd.DataFrame(season)\n",
    "    else:\n",
    "        cur_season = pd.DataFrame(season)\n",
    "        all_seasons = pd.concat([all_seasons, cur_season])\n",
    "    "
   ]
  },
  {
   "cell_type": "code",
   "execution_count": 8,
   "id": "224f7065",
   "metadata": {},
   "outputs": [],
   "source": [
    "all_seasons.reset_index(inplace = True)"
   ]
  },
  {
   "cell_type": "code",
   "execution_count": 9,
   "id": "d1b574c1",
   "metadata": {},
   "outputs": [],
   "source": [
    "all_seasons.drop(columns=['G', 'MP', 'FG', 'FGA', 'FG%', \n",
    "                          'FT', 'FTA', 'FT%', 'ORB', 'DRB', \n",
    "                          'TRB', 'AST', 'STL', 'BLK', 'TOV',\n",
    "                          'PF'], inplace=True)"
   ]
  },
  {
   "cell_type": "code",
   "execution_count": 10,
   "id": "38d4d8e7",
   "metadata": {},
   "outputs": [
    {
     "data": {
      "text/html": [
       "<div>\n",
       "<style scoped>\n",
       "    .dataframe tbody tr th:only-of-type {\n",
       "        vertical-align: middle;\n",
       "    }\n",
       "\n",
       "    .dataframe tbody tr th {\n",
       "        vertical-align: top;\n",
       "    }\n",
       "\n",
       "    .dataframe thead th {\n",
       "        text-align: right;\n",
       "    }\n",
       "</style>\n",
       "<table border=\"1\" class=\"dataframe\">\n",
       "  <thead>\n",
       "    <tr style=\"text-align: right;\">\n",
       "      <th></th>\n",
       "      <th>Year</th>\n",
       "      <th>Team</th>\n",
       "      <th>3P</th>\n",
       "      <th>3PA</th>\n",
       "      <th>3P%</th>\n",
       "      <th>2P</th>\n",
       "      <th>2PA</th>\n",
       "      <th>2P%</th>\n",
       "      <th>PTS</th>\n",
       "    </tr>\n",
       "  </thead>\n",
       "  <tbody>\n",
       "    <tr>\n",
       "      <th>0</th>\n",
       "      <td>1990</td>\n",
       "      <td>Golden State Warriors</td>\n",
       "      <td>3.0</td>\n",
       "      <td>9.1</td>\n",
       "      <td>0.324</td>\n",
       "      <td>39.6</td>\n",
       "      <td>78.8</td>\n",
       "      <td>0.503</td>\n",
       "      <td>116.3</td>\n",
       "    </tr>\n",
       "    <tr>\n",
       "      <th>1</th>\n",
       "      <td>1990</td>\n",
       "      <td>Phoenix Suns</td>\n",
       "      <td>2.1</td>\n",
       "      <td>6.6</td>\n",
       "      <td>0.324</td>\n",
       "      <td>41.1</td>\n",
       "      <td>80.4</td>\n",
       "      <td>0.511</td>\n",
       "      <td>114.9</td>\n",
       "    </tr>\n",
       "    <tr>\n",
       "      <th>2</th>\n",
       "      <td>1990</td>\n",
       "      <td>Denver Nuggets</td>\n",
       "      <td>2.8</td>\n",
       "      <td>8.3</td>\n",
       "      <td>0.337</td>\n",
       "      <td>42.5</td>\n",
       "      <td>89.5</td>\n",
       "      <td>0.475</td>\n",
       "      <td>114.6</td>\n",
       "    </tr>\n",
       "    <tr>\n",
       "      <th>3</th>\n",
       "      <td>1990</td>\n",
       "      <td>Portland Trail Blazers</td>\n",
       "      <td>2.3</td>\n",
       "      <td>6.9</td>\n",
       "      <td>0.336</td>\n",
       "      <td>41.2</td>\n",
       "      <td>85.1</td>\n",
       "      <td>0.484</td>\n",
       "      <td>114.2</td>\n",
       "    </tr>\n",
       "    <tr>\n",
       "      <th>4</th>\n",
       "      <td>1990</td>\n",
       "      <td>Orlando Magic</td>\n",
       "      <td>1.4</td>\n",
       "      <td>4.8</td>\n",
       "      <td>0.295</td>\n",
       "      <td>40.7</td>\n",
       "      <td>87.0</td>\n",
       "      <td>0.468</td>\n",
       "      <td>110.9</td>\n",
       "    </tr>\n",
       "  </tbody>\n",
       "</table>\n",
       "</div>"
      ],
      "text/plain": [
       "   Year                    Team   3P  3PA    3P%    2P   2PA    2P%    PTS\n",
       "0  1990   Golden State Warriors  3.0  9.1  0.324  39.6  78.8  0.503  116.3\n",
       "1  1990            Phoenix Suns  2.1  6.6  0.324  41.1  80.4  0.511  114.9\n",
       "2  1990          Denver Nuggets  2.8  8.3  0.337  42.5  89.5  0.475  114.6\n",
       "3  1990  Portland Trail Blazers  2.3  6.9  0.336  41.2  85.1  0.484  114.2\n",
       "4  1990           Orlando Magic  1.4  4.8  0.295  40.7  87.0  0.468  110.9"
      ]
     },
     "execution_count": 10,
     "metadata": {},
     "output_type": "execute_result"
    }
   ],
   "source": [
    "all_seasons.head()"
   ]
  },
  {
   "cell_type": "code",
   "execution_count": 11,
   "id": "6c9c66c6",
   "metadata": {},
   "outputs": [],
   "source": [
    "standings = pd.read_csv('./data/standings/Team_Records.csv')"
   ]
  },
  {
   "cell_type": "code",
   "execution_count": 12,
   "id": "1f16120f",
   "metadata": {},
   "outputs": [],
   "source": [
    "standings['Year'] = ['19' + yr if int(yr) > 22 else '20' + yr for yr in standings['Season'].str[-2:]]\n",
    "standings['Team'] = standings['Team'].str.replace('*', '')"
   ]
  },
  {
   "cell_type": "code",
   "execution_count": 13,
   "id": "011da5cc",
   "metadata": {},
   "outputs": [],
   "source": [
    "standings['Win%'] = standings['W/L%']"
   ]
  },
  {
   "cell_type": "code",
   "execution_count": 14,
   "id": "e1721e64",
   "metadata": {},
   "outputs": [],
   "source": [
    "standings = standings[['Team', 'W', 'L', 'Year', 'Win%']]"
   ]
  },
  {
   "cell_type": "code",
   "execution_count": 15,
   "id": "7640cabf",
   "metadata": {},
   "outputs": [],
   "source": [
    "standings['Year'] = standings['Year'].astype(int)"
   ]
  },
  {
   "cell_type": "code",
   "execution_count": 16,
   "id": "3e5845a3",
   "metadata": {},
   "outputs": [
    {
     "data": {
      "text/html": [
       "<div>\n",
       "<style scoped>\n",
       "    .dataframe tbody tr th:only-of-type {\n",
       "        vertical-align: middle;\n",
       "    }\n",
       "\n",
       "    .dataframe tbody tr th {\n",
       "        vertical-align: top;\n",
       "    }\n",
       "\n",
       "    .dataframe thead th {\n",
       "        text-align: right;\n",
       "    }\n",
       "</style>\n",
       "<table border=\"1\" class=\"dataframe\">\n",
       "  <thead>\n",
       "    <tr style=\"text-align: right;\">\n",
       "      <th></th>\n",
       "      <th>Year</th>\n",
       "      <th>Team</th>\n",
       "      <th>3P</th>\n",
       "      <th>3PA</th>\n",
       "      <th>3P%</th>\n",
       "      <th>2P</th>\n",
       "      <th>2PA</th>\n",
       "      <th>2P%</th>\n",
       "      <th>PTS</th>\n",
       "    </tr>\n",
       "  </thead>\n",
       "  <tbody>\n",
       "    <tr>\n",
       "      <th>0</th>\n",
       "      <td>1990</td>\n",
       "      <td>Golden State Warriors</td>\n",
       "      <td>3.0</td>\n",
       "      <td>9.1</td>\n",
       "      <td>0.324</td>\n",
       "      <td>39.6</td>\n",
       "      <td>78.8</td>\n",
       "      <td>0.503</td>\n",
       "      <td>116.3</td>\n",
       "    </tr>\n",
       "    <tr>\n",
       "      <th>1</th>\n",
       "      <td>1990</td>\n",
       "      <td>Phoenix Suns</td>\n",
       "      <td>2.1</td>\n",
       "      <td>6.6</td>\n",
       "      <td>0.324</td>\n",
       "      <td>41.1</td>\n",
       "      <td>80.4</td>\n",
       "      <td>0.511</td>\n",
       "      <td>114.9</td>\n",
       "    </tr>\n",
       "    <tr>\n",
       "      <th>2</th>\n",
       "      <td>1990</td>\n",
       "      <td>Denver Nuggets</td>\n",
       "      <td>2.8</td>\n",
       "      <td>8.3</td>\n",
       "      <td>0.337</td>\n",
       "      <td>42.5</td>\n",
       "      <td>89.5</td>\n",
       "      <td>0.475</td>\n",
       "      <td>114.6</td>\n",
       "    </tr>\n",
       "    <tr>\n",
       "      <th>3</th>\n",
       "      <td>1990</td>\n",
       "      <td>Portland Trail Blazers</td>\n",
       "      <td>2.3</td>\n",
       "      <td>6.9</td>\n",
       "      <td>0.336</td>\n",
       "      <td>41.2</td>\n",
       "      <td>85.1</td>\n",
       "      <td>0.484</td>\n",
       "      <td>114.2</td>\n",
       "    </tr>\n",
       "    <tr>\n",
       "      <th>4</th>\n",
       "      <td>1990</td>\n",
       "      <td>Orlando Magic</td>\n",
       "      <td>1.4</td>\n",
       "      <td>4.8</td>\n",
       "      <td>0.295</td>\n",
       "      <td>40.7</td>\n",
       "      <td>87.0</td>\n",
       "      <td>0.468</td>\n",
       "      <td>110.9</td>\n",
       "    </tr>\n",
       "  </tbody>\n",
       "</table>\n",
       "</div>"
      ],
      "text/plain": [
       "   Year                    Team   3P  3PA    3P%    2P   2PA    2P%    PTS\n",
       "0  1990   Golden State Warriors  3.0  9.1  0.324  39.6  78.8  0.503  116.3\n",
       "1  1990            Phoenix Suns  2.1  6.6  0.324  41.1  80.4  0.511  114.9\n",
       "2  1990          Denver Nuggets  2.8  8.3  0.337  42.5  89.5  0.475  114.6\n",
       "3  1990  Portland Trail Blazers  2.3  6.9  0.336  41.2  85.1  0.484  114.2\n",
       "4  1990           Orlando Magic  1.4  4.8  0.295  40.7  87.0  0.468  110.9"
      ]
     },
     "execution_count": 16,
     "metadata": {},
     "output_type": "execute_result"
    }
   ],
   "source": [
    "all_seasons.head()"
   ]
  },
  {
   "cell_type": "code",
   "execution_count": 17,
   "id": "66d5ec4c",
   "metadata": {},
   "outputs": [],
   "source": [
    "standings_list = ['2019', '2020', '2021']"
   ]
  },
  {
   "cell_type": "code",
   "execution_count": 18,
   "id": "d56c629e",
   "metadata": {},
   "outputs": [],
   "source": [
    "for year in standings_list:\n",
    "    year_results = pd.read_csv('./data/standings/{}_standings.csv'.format(year))\n",
    "    year_results = year_results[['Team', 'Overall']]\n",
    "    records = year_results['Overall'].str.split('-')\n",
    "    year_results.drop(columns='Overall', axis=1, inplace=True)\n",
    "    records = np.array(list(records))\n",
    "    year_results['W'] = records[:, 0]\n",
    "    year_results['L'] = records[:, 1]\n",
    "    year_results['Win%'] = round(year_results['W'].astype(int) / (year_results['W'].astype(int) + year_results['L'].astype(int)), 3)\n",
    "    year_results['Year'] = int(year)\n",
    "    standings = pd.concat([standings, year_results])\n",
    "    "
   ]
  },
  {
   "cell_type": "code",
   "execution_count": 19,
   "id": "f62a4a16",
   "metadata": {},
   "outputs": [],
   "source": [
    "all_seasons = all_seasons.merge(standings, on=['Year', 'Team'], how='left')"
   ]
  },
  {
   "cell_type": "code",
   "execution_count": 20,
   "id": "f91cbcf2",
   "metadata": {},
   "outputs": [
    {
     "data": {
      "text/plain": [
       "(933, 12)"
      ]
     },
     "execution_count": 20,
     "metadata": {},
     "output_type": "execute_result"
    }
   ],
   "source": [
    "all_seasons.shape"
   ]
  },
  {
   "cell_type": "code",
   "execution_count": 67,
   "id": "efba2e68",
   "metadata": {},
   "outputs": [],
   "source": [
    "year_eval = all_seasons.groupby(by='Year')[['3P', 'PTS', '2P%', '3P%', '3PA', '2PA']].agg(np.mean).reset_index()"
   ]
  },
  {
   "cell_type": "code",
   "execution_count": 68,
   "id": "0d27863d",
   "metadata": {},
   "outputs": [
    {
     "data": {
      "text/html": [
       "<div>\n",
       "<style scoped>\n",
       "    .dataframe tbody tr th:only-of-type {\n",
       "        vertical-align: middle;\n",
       "    }\n",
       "\n",
       "    .dataframe tbody tr th {\n",
       "        vertical-align: top;\n",
       "    }\n",
       "\n",
       "    .dataframe thead th {\n",
       "        text-align: right;\n",
       "    }\n",
       "</style>\n",
       "<table border=\"1\" class=\"dataframe\">\n",
       "  <thead>\n",
       "    <tr style=\"text-align: right;\">\n",
       "      <th></th>\n",
       "      <th>Year</th>\n",
       "      <th>3P</th>\n",
       "      <th>PTS</th>\n",
       "      <th>2P%</th>\n",
       "      <th>3P%</th>\n",
       "      <th>3PA</th>\n",
       "      <th>2PA</th>\n",
       "    </tr>\n",
       "  </thead>\n",
       "  <tbody>\n",
       "    <tr>\n",
       "      <th>0</th>\n",
       "      <td>1990</td>\n",
       "      <td>2.185185</td>\n",
       "      <td>106.988889</td>\n",
       "      <td>0.488815</td>\n",
       "      <td>0.316111</td>\n",
       "      <td>6.607407</td>\n",
       "      <td>80.548148</td>\n",
       "    </tr>\n",
       "    <tr>\n",
       "      <th>1</th>\n",
       "      <td>1991</td>\n",
       "      <td>2.296296</td>\n",
       "      <td>106.300000</td>\n",
       "      <td>0.488370</td>\n",
       "      <td>0.314630</td>\n",
       "      <td>7.140741</td>\n",
       "      <td>80.055556</td>\n",
       "    </tr>\n",
       "    <tr>\n",
       "      <th>2</th>\n",
       "      <td>1992</td>\n",
       "      <td>2.525926</td>\n",
       "      <td>105.314815</td>\n",
       "      <td>0.486148</td>\n",
       "      <td>0.325407</td>\n",
       "      <td>7.629630</td>\n",
       "      <td>79.718519</td>\n",
       "    </tr>\n",
       "    <tr>\n",
       "      <th>3</th>\n",
       "      <td>1993</td>\n",
       "      <td>3.022222</td>\n",
       "      <td>105.266667</td>\n",
       "      <td>0.489370</td>\n",
       "      <td>0.331259</td>\n",
       "      <td>8.948148</td>\n",
       "      <td>77.003704</td>\n",
       "    </tr>\n",
       "    <tr>\n",
       "      <th>4</th>\n",
       "      <td>1994</td>\n",
       "      <td>3.292593</td>\n",
       "      <td>101.511111</td>\n",
       "      <td>0.483593</td>\n",
       "      <td>0.332185</td>\n",
       "      <td>9.896296</td>\n",
       "      <td>74.548148</td>\n",
       "    </tr>\n",
       "  </tbody>\n",
       "</table>\n",
       "</div>"
      ],
      "text/plain": [
       "   Year        3P         PTS       2P%       3P%       3PA        2PA\n",
       "0  1990  2.185185  106.988889  0.488815  0.316111  6.607407  80.548148\n",
       "1  1991  2.296296  106.300000  0.488370  0.314630  7.140741  80.055556\n",
       "2  1992  2.525926  105.314815  0.486148  0.325407  7.629630  79.718519\n",
       "3  1993  3.022222  105.266667  0.489370  0.331259  8.948148  77.003704\n",
       "4  1994  3.292593  101.511111  0.483593  0.332185  9.896296  74.548148"
      ]
     },
     "execution_count": 68,
     "metadata": {},
     "output_type": "execute_result"
    }
   ],
   "source": [
    "year_eval.head()"
   ]
  },
  {
   "cell_type": "code",
   "execution_count": 36,
   "id": "92b2da88",
   "metadata": {},
   "outputs": [
    {
     "data": {
      "text/plain": [
       "Index(['Year', '3P', 'PTS', '2P%', '3P%'], dtype='object')"
      ]
     },
     "execution_count": 36,
     "metadata": {},
     "output_type": "execute_result"
    }
   ],
   "source": [
    "year_eval.columns"
   ]
  },
  {
   "cell_type": "code",
   "execution_count": 70,
   "id": "0a848a10",
   "metadata": {},
   "outputs": [
    {
     "data": {
      "image/png": "[encoded data removed]",
      "text/plain": [
       "<Figure size 720x720 with 6 Axes>"
      ]
     },
     "metadata": {
      "needs_background": "light"
     },
     "output_type": "display_data"
    }
   ],
   "source": [
    "fig, axs = plt.subplots(3, 2, figsize=(10,10))\n",
    "\n",
    "axs[0,0].plot('Year','3P', data=year_eval)\n",
    "axs[0,0].tick_params(axis='x', rotation=90)\n",
    "axs[0,0].title.set_text('3PM Per Game Per Year')\n",
    "axs[0,0].set_ylabel('3PM/Game')\n",
    "\n",
    "axs[0,1].plot('Year','PTS', data=year_eval)\n",
    "axs[0,1].tick_params(axis='x', rotation=90)\n",
    "axs[0,1].title.set_text('Points Per Game Per Year')\n",
    "axs[0,1].set_ylabel('PTS/Game')\n",
    "\n",
    "axs[1,0].plot('Year', '2P%', data=year_eval)\n",
    "axs[1,0].tick_params(axis='x', rotation=90)\n",
    "axs[1,0].title.set_text('2 Point Shooting % Per Year')\n",
    "axs[1,0].set_ylabel('2PT %')\n",
    "\n",
    "axs[1,1].plot('Year', '3P%', data=year_eval)\n",
    "axs[1,1].tick_params(axis='x', rotation=90)\n",
    "axs[1,1].title.set_text('3 Point Shooting % Per Year')\n",
    "axs[1,1].set_ylabel('3PT %')\n",
    "\n",
    "axs[2,0].plot('Year', '2PA', data=year_eval)\n",
    "axs[2,0].tick_params(axis='x', rotation=90)\n",
    "axs[2,0].title.set_text('2 Point Attempts Per Game Per Year')\n",
    "axs[2,0].set_ylabel('2PA/GM')\n",
    "\n",
    "axs[2,1].plot('Year', '3PA', data=year_eval)\n",
    "axs[2,1].tick_params(axis='x', rotation=90)\n",
    "axs[2,1].title.set_text('3 Point Attempts Per Game Per Year')\n",
    "axs[2,1].set_ylabel('3PA/GM')\n",
    "\n",
    "fig.tight_layout()\n",
    "plt.show()"
   ]
  },
  {
   "cell_type": "code",
   "execution_count": null,
   "id": "79f7b822",
   "metadata": {},
   "outputs": [],
   "source": []
  }
 ],
 "metadata": {
  "kernelspec": {
   "display_name": "Python 3 (ipykernel)",
   "language": "python",
   "name": "python3"
  },
  "language_info": {
   "codemirror_mode": {
    "name": "ipython",
    "version": 3
   },
   "file_extension": ".py",
   "mimetype": "text/x-python",
   "name": "python",
   "nbconvert_exporter": "python",
   "pygments_lexer": "ipython3",
   "version": "3.9.10"
  }
 },
 "nbformat": 4,
 "nbformat_minor": 5
}

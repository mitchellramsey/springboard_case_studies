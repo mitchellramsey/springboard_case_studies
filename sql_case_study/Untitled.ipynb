{
 "cells": [
  {
   "cell_type": "code",
   "execution_count": 1,
   "id": "d82a29b9",
   "metadata": {},
   "outputs": [],
   "source": [
    "import pandas as pd\n",
    "import numpy as np\n",
    "from sqlalchemy import create_engine, extract"
   ]
  },
  {
   "cell_type": "code",
   "execution_count": 2,
   "id": "5c8aaaa1",
   "metadata": {},
   "outputs": [],
   "source": [
    "engine = create_engine('sqlite:///sqlite_db_pythonsqlite.db')"
   ]
  },
  {
   "cell_type": "code",
   "execution_count": 3,
   "id": "2d98bcd6",
   "metadata": {},
   "outputs": [
    {
     "name": "stderr",
     "output_type": "stream",
     "text": [
      "/var/folders/lh/2pt476ks5r5_ln7lg89jxxbh0000gn/T/ipykernel_17371/4162273999.py:1: SADeprecationWarning: The Engine.table_names() method is deprecated and will be removed in a future release.  Please refer to Inspector.get_table_names(). (deprecated since: 1.4)\n",
      "  engine.table_names()\n"
     ]
    },
    {
     "data": {
      "text/plain": [
       "['Bookings', 'Facilities', 'Members']"
      ]
     },
     "execution_count": 3,
     "metadata": {},
     "output_type": "execute_result"
    }
   ],
   "source": [
    "engine.table_names()"
   ]
  },
  {
   "cell_type": "code",
   "execution_count": 4,
   "id": "8f5e87fc",
   "metadata": {},
   "outputs": [],
   "source": [
    "query10 = \"\"\" WITH fac_costs AS (\n",
    "SELECT b.facid, f.name,\n",
    "CASE WHEN b.memid = 0 THEN f.guestcost \n",
    "ELSE f.membercost END AS cost\n",
    "FROM Bookings as b\n",
    "    LEFT JOIN Facilities AS f\n",
    "    ON b.facid = f.facid\n",
    ")\n",
    "\n",
    "SELECT DISTINCT name as facility, SUM(cost) AS total_revenue\n",
    "FROM fac_costs\n",
    "GROUP BY facility\n",
    "HAVING total_revenue < 1000\n",
    "\"\"\"\n"
   ]
  },
  {
   "cell_type": "code",
   "execution_count": 5,
   "id": "652e4cf9",
   "metadata": {},
   "outputs": [],
   "source": [
    "query11 = \"\"\"\n",
    "SELECT m1.surname || ', ' || m1.firstname AS member,\n",
    "       m2.surname || ', ' || m2.firstname AS recommended_by\n",
    "FROM Members AS m1\n",
    "    INNER JOIN Members AS m2\n",
    "    ON m1.recommendedby = m2.memid\n",
    "WHERE m1.recommendedby IS NOT NULL\n",
    "ORDER BY member\n",
    "\"\"\""
   ]
  },
  {
   "cell_type": "code",
   "execution_count": 6,
   "id": "0d4d7101",
   "metadata": {},
   "outputs": [],
   "source": [
    "query12 = \"\"\"\n",
    "SELECT f.name, SUM(b.slots) AS usage_by_mem\n",
    "FROM Bookings AS b\n",
    "    LEFT JOIN Facilities AS f\n",
    "    ON b.facid = f.facid\n",
    "WHERE b.memid != 0\n",
    "GROUP BY f.name\n",
    "\"\"\""
   ]
  },
  {
   "cell_type": "code",
   "execution_count": 19,
   "id": "802a37b8",
   "metadata": {},
   "outputs": [],
   "source": [
    "query13 = \"\"\"\n",
    "SELECT b.facid AS facility_id\n",
    "    strftime('%m', starttime) AS month,\n",
    "    SUM(b.slots) AS usage\n",
    "FROM Bookings AS b\n",
    "    LEFT JOIN Facilities as f\n",
    "    ON b.facid = f.facid\n",
    "GROUP BY month\n",
    "\"\"\""
   ]
  },
  {
   "cell_type": "code",
   "execution_count": 20,
   "id": "1f05dad0",
   "metadata": {},
   "outputs": [
    {
     "data": {
      "text/html": [
       "<div>\n",
       "<style scoped>\n",
       "    .dataframe tbody tr th:only-of-type {\n",
       "        vertical-align: middle;\n",
       "    }\n",
       "\n",
       "    .dataframe tbody tr th {\n",
       "        vertical-align: top;\n",
       "    }\n",
       "\n",
       "    .dataframe thead th {\n",
       "        text-align: right;\n",
       "    }\n",
       "</style>\n",
       "<table border=\"1\" class=\"dataframe\">\n",
       "  <thead>\n",
       "    <tr style=\"text-align: right;\">\n",
       "      <th></th>\n",
       "      <th>month</th>\n",
       "      <th>SUM(b.slots)</th>\n",
       "    </tr>\n",
       "  </thead>\n",
       "  <tbody>\n",
       "    <tr>\n",
       "      <th>0</th>\n",
       "      <td>07</td>\n",
       "      <td>1486</td>\n",
       "    </tr>\n",
       "    <tr>\n",
       "      <th>1</th>\n",
       "      <td>08</td>\n",
       "      <td>3327</td>\n",
       "    </tr>\n",
       "    <tr>\n",
       "      <th>2</th>\n",
       "      <td>09</td>\n",
       "      <td>4378</td>\n",
       "    </tr>\n",
       "  </tbody>\n",
       "</table>\n",
       "</div>"
      ],
      "text/plain": [
       "  month  SUM(b.slots)\n",
       "0    07          1486\n",
       "1    08          3327\n",
       "2    09          4378"
      ]
     },
     "execution_count": 20,
     "metadata": {},
     "output_type": "execute_result"
    }
   ],
   "source": [
    "df = pd.read_sql_query(query13, engine)\n",
    "df"
   ]
  },
  {
   "cell_type": "code",
   "execution_count": null,
   "id": "ededb01b",
   "metadata": {},
   "outputs": [],
   "source": []
  }
 ],
 "metadata": {
  "kernelspec": {
   "display_name": "Python 3 (ipykernel)",
   "language": "python",
   "name": "python3"
  },
  "language_info": {
   "codemirror_mode": {
    "name": "ipython",
    "version": 3
   },
   "file_extension": ".py",
   "mimetype": "text/x-python",
   "name": "python",
   "nbconvert_exporter": "python",
   "pygments_lexer": "ipython3",
   "version": "3.9.7"
  }
 },
 "nbformat": 4,
 "nbformat_minor": 5
}
